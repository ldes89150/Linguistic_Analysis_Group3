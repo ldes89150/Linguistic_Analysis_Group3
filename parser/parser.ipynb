{
 "cells": [
  {
   "cell_type": "code",
   "execution_count": 1,
   "metadata": {
    "collapsed": true
   },
   "outputs": [],
   "source": [
    "import requests\n",
    "from lxml import etree, html"
   ]
  },
  {
   "cell_type": "code",
   "execution_count": 2,
   "metadata": {
    "collapsed": false
   },
   "outputs": [],
   "source": [
    "class parser():\n",
    "    def __init__(self):\n",
    "        self.tree = None\n",
    "        self.d = dict()\n",
    "    \n",
    "    def fetch(self,n):\n",
    "        r = requests.get(\"http://www.judicial.gov.tw/constitutionalcourt/p03_01_printpage.asp?expno={0}\".format(n))\n",
    "        self.tree = html.fromstring(r.content.decode(\"big5\"))\n",
    "        self.d = dict()\n",
    "        i = 1\n",
    "        while True:\n",
    "            try:\n",
    "                key =  self.tree.xpath(\"/html/body/center/table/tr/td/table/tr[2]/td/table/tr[{0}]/td[{1}]\".format(i,1))[0].text_content()\n",
    "                value =  self.tree.xpath(\"/html/body/center/table/tr/td/table/tr[2]/td/table/tr[{0}]/td[{1}]\".format(i,2))[0].text_content()\n",
    "                self.d[key]=value\n",
    "                i+=1\n",
    "            except IndexError:\n",
    "                break"
   ]
  },
  {
   "cell_type": "code",
   "execution_count": 3,
   "metadata": {
    "collapsed": false
   },
   "outputs": [
    {
     "name": "stdout",
     "output_type": "stream",
     "text": [
      "\r\n",
      "                    \t        人民團體法第十七條第二項關於「由理事就常務理事中選舉一人為理事長，其不設常務理事者，就理事中互選之」之規定部分，限制職業團體內部組織與事務之自主決定已逾必要程度，有違憲法第二十三條所定之比例原則，與憲法第十四條保障人民結社自由之意旨不符，應自本解釋公布之日起，至遲於屆滿一年時，失其效力。\r\n",
      "\n",
      "                  \r\n",
      "\t\t\t\t\t\t        憲法第十四條規定人民有結社之自由，旨在保障人民為特定目的，以共同之意思組成團體並參與其活動之權利，並確保團體之存續、內部組織與事務之自主決定及對外活動之自由（本院釋字第六四四號解釋參照）。結社團體代表人或其他負責人產生方式亦在結社自由保障之範圍。惟各種不同結社團體，對於個人、社會或民主憲政制度之意義不同，與公共利益之關聯程度亦有差異，受法律限制之程度亦有所不同。對上開產生方式之限制，應視結社團體性質之不同，於所採手段未逾必要程度內，始無違憲法第二十三條之比例原則。 \r\n",
      "        人民團體法第十七條第二項規定：「前項各款理事、監事名額在三人以上者，得分別互選常務理事及常務監事，其名額不得超過理事或監事總額之三分之一；並由理事就常務理事中選舉一人為理事長，其不設常務理事者，就理事中互選之……。」其中有關「由理事就常務理事中選舉一人為理事長，其不設常務理事者，就理事中互選之」部分（下稱系爭規定），明定理事長應由理事選舉之。雖因同法第四十一條及第四十九條分別就社會團體與政治團體選任職員之選任，均明定得於其章程中另定之，而使系爭規定適用於社會團體與政治團體部分不具強制性；但就職業團體而言，除其他法律有特別規定外（同法第一條規定參照），系爭規定仍屬對理事長產生方式之強制規定，自係對人民團體內部組織與事務之自主決定所為之限制。\r\n",
      "        查系爭規定之目的在於輔導人民團體健全發展（立法院公報第七十七卷第三十八期，第一八九頁參照）。又職業團體係以協調同業關係，增進共同利益，促進社會經濟建設為目的，由同一行業之單位、團體或同一職業之從業人員組成之團體（人民團體法第三十五條規定參照）。職業團體之理事長，除對外代表該團體參與各項活動外，依人民團體法第十八條「人民團體理事會、監事會應依會員（會員代表）大會之決議及章程之規定，分別執行職務」之規定，負有執行職務之義務；且依同法第二十五條第一項「人民團體會員（會員代表）大會，分定期會議與臨時會議二種，由理事長召集之」及第二十九條第一項「人民團體理事會、監事會，每三個月至少舉行會議一次，並得通知候補理事、候補監事列席」等規定，亦負有召集會員（會員代表）大會及召集理事會之義務。該等職務之履行，事關內部組織及事務運作，影響團體之健全發展。法律規定對理事長產生方式之限制，如未逾達成其立法目的之必要程度，固非不許，惟職業團體理事長不論由理事間接選舉，或由會員直接選舉，或依章程規定之其他適當方式產生，皆無礙於團體之健全發展及促進社會經濟建設等目的之達成。系爭規定強制規定「由理事就常務理事中選舉一人為理事長，其不設常務理事者，就理事中互選之」，致該團體理事長未能以直接選舉或由章程另定其他方式產生，已逾越達成系爭規定立法目的之必要。是系爭規定限制職業團體內部組織及事務之自主決定已逾必要程度，有違憲法第二十三條所定之比例原則，與憲法第十四條保障人民結社自由之意旨不符，應自本解釋公布之日起，至遲於屆滿一年時，失其效力。至某些性質特殊之職業團體，其他法律基於其他公益目的，就其理事長產生之方式所為之限制規定，不在本件解釋範圍。\r\n",
      "大法官會議主席 大法官 賴浩敏\r\n",
      "                             大法官 蘇永欽 黃茂榮 陳  敏 葉百修\r\n",
      "                                          陳春生 陳新民 陳碧玉 黃璽君\r\n",
      "                                          羅昌發 湯德宗 黃虹霞 吳陳鐶\r\n",
      "                                          蔡明誠 林俊益\r\n",
      "\r\n",
      "                    \n"
     ]
    }
   ],
   "source": [
    "p=parser()\n",
    "p.fetch(733) # 解釋字號\n",
    "print(p.d['解釋文']) #For python 2 users, this should be print(p.d[u'解釋文'])\n",
    "print(p.d['理由書'])"
   ]
  },
  {
   "cell_type": "code",
   "execution_count": null,
   "metadata": {
    "collapsed": true
   },
   "outputs": [],
   "source": []
  }
 ],
 "metadata": {
  "kernelspec": {
   "display_name": "Python 3",
   "language": "python",
   "name": "python3"
  },
  "language_info": {
   "codemirror_mode": {
    "name": "ipython",
    "version": 3
   },
   "file_extension": ".py",
   "mimetype": "text/x-python",
   "name": "python",
   "nbconvert_exporter": "python",
   "pygments_lexer": "ipython3",
   "version": "3.4.3"
  }
 },
 "nbformat": 4,
 "nbformat_minor": 0
}
